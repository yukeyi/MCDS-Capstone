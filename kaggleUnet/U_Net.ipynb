{
 "cells": [
  {
   "cell_type": "markdown",
   "metadata": {
    "colab_type": "text",
    "id": "iIueBzMSKSzJ"
   },
   "source": [
    "Import libraries\n"
   ]
  },
  {
   "cell_type": "code",
   "execution_count": 0,
   "metadata": {
    "colab": {
     "base_uri": "https://localhost:8080/",
     "height": 34
    },
    "colab_type": "code",
    "id": "HVf1rzMcKCLJ",
    "outputId": "3c46773d-7320-4dd2-cef8-0324319a589b"
   },
   "outputs": [
    {
     "name": "stdout",
     "output_type": "stream",
     "text": [
      "Requirement already satisfied: SimpleITK in /usr/local/lib/python3.6/dist-packages (1.2.0)\n"
     ]
    }
   ],
   "source": [
    "# import libraries\n",
    "! pip install SimpleITK\n",
    "import cv2\n",
    "import numpy as np\n",
    "import SimpleITK as sitk\n",
    "import matplotlib.pyplot as plt\n",
    "import os\n",
    "import random\n",
    "import time\n",
    "import shutil\n",
    "import argparse\n",
    "from multiprocessing.dummy import Pool\n",
    "import numpy as np\n",
    "import pandas as pd\n",
    "import matplotlib.pyplot as plt\n",
    "from PIL import Image\n",
    "from sklearn.model_selection import train_test_split\n",
    "from sklearn.externals import joblib\n",
    "from skimage.morphology import binary_opening, disk, label\n",
    "import torch\n",
    "import torch.nn as nn\n",
    "import torch.nn.functional as F\n",
    "from torch.autograd import Variable\n",
    "from torch.utils.data import DataLoader, Dataset\n",
    "import torchvision.transforms as transforms\n",
    "\n",
    "\n"
   ]
  },
  {
   "cell_type": "markdown",
   "metadata": {
    "colab_type": "text",
    "id": "NZigSk_-U-4k"
   },
   "source": [
    "Change parameters here."
   ]
  },
  {
   "cell_type": "code",
   "execution_count": 0,
   "metadata": {
    "colab": {},
    "colab_type": "code",
    "id": "2f115o--U-J6"
   },
   "outputs": [],
   "source": [
    "\n",
    "base_image_path = \"../Training2/\"\n",
    "base_label_path = \"../Label2/\"\n",
    "depth = 240\n",
    "height = 240\n",
    "width = 240\n",
    "use_resize_2 = False"
   ]
  },
  {
   "cell_type": "markdown",
   "metadata": {
    "colab_type": "text",
    "id": "eOiFucFRTm8c"
   },
   "source": [
    "A helper function that reads in original labels and save as a list of labels used in validation."
   ]
  },
  {
   "cell_type": "code",
   "execution_count": 0,
   "metadata": {
    "colab": {},
    "colab_type": "code",
    "id": "5Ns5Fu--TgIj"
   },
   "outputs": [],
   "source": [
    "def load_labels():\n",
    "    labels = []\n",
    "    for file in os.listdir(base_label_path):\n",
    "        label = sitk.ReadImage(file)\n",
    "        labelArray = sitk.GetArrayFromImage(label)\n",
    "    return labels\n",
    "    "
   ]
  },
  {
   "cell_type": "markdown",
   "metadata": {
    "colab_type": "text",
    "id": "azHK7oFrTr1O"
   },
   "source": [
    "Prepare data for training U-Net:\n",
    "- Resize the image to be cubes of size 240x240x240\n",
    "- (Optional)Normalize each image to in range(0,1) inclusively"
   ]
  },
  {
   "cell_type": "code",
   "execution_count": 0,
   "metadata": {
    "colab": {},
    "colab_type": "code",
    "id": "SOI55VyoNLfZ"
   },
   "outputs": [],
   "source": [
    "#pass in 2D image\n",
    "def normalization(img):\n",
    "    newImg = (img-np.min(img))/(np.max(img)-np.min(img))\n",
    "    return newImg\n",
    "\n",
    "def data_prepare(path, is_label_data):\n",
    "\n",
    "    heart = sitk.ReadImage(path)\n",
    "    heartArray = sitk.GetArrayFromImage(heart)\n",
    "    #print(heartArray.shape)\n",
    "\n",
    "    # resize the image\n",
    "    img_stack_sm = np.zeros((len(heartArray), height, depth))\n",
    "\n",
    "    for idx in range(len(heartArray)):\n",
    "        img = heartArray[idx, :, :]\n",
    "        if is_label_data:\n",
    "            img_sm = cv2.resize(img, (height, depth), interpolation=cv2.INTER_NEAREST)\n",
    "        else:\n",
    "            img_sm = cv2.resize(img, (height, depth), interpolation=cv2.INTER_CUBIC)\n",
    "        img_stack_sm[idx, :, :] = img_sm\n",
    "\n",
    "    if(use_resize_2):\n",
    "        img_stack_sm2 = np.zeros((width, height, depth))\n",
    "\n",
    "        for idx in range(height):\n",
    "            img = img_stack_sm[:, idx, :]\n",
    "            if is_label_data:\n",
    "                img_sm = cv2.resize(img, (width, depth), interpolation=cv2.INTER_NEAREST)\n",
    "\n",
    "            else:\n",
    "                img_sm = cv2.resize(img, (width, depth), interpolation=cv2.INTER_CUBIC)\n",
    "            img_stack_sm2[:, idx, :] = img_sm\n",
    "        img_stack_sm = img_stack_sm2\n",
    "\n",
    "    #print(img_stack_sm.shape)\n",
    "\n",
    "    return img_stack_sm.tolist()"
   ]
  },
  {
   "cell_type": "code",
   "execution_count": 0,
   "metadata": {
    "colab": {},
    "colab_type": "code",
    "id": "f4PkqVVwKQjc"
   },
   "outputs": [],
   "source": [
    "def get_data(figuresize):\n",
    "    global depth\n",
    "    global width\n",
    "    global height\n",
    "    \n",
    "    depth = figuresize\n",
    "    width = figuresize\n",
    "    height = figuresize\n",
    "    \n",
    "    image = []\n",
    "    label = []\n",
    "    heart_index = []\n",
    "    \n",
    "    for file in os.listdir(base_image_path):\n",
    "        if(file[0] == '.'):\n",
    "            continue\n",
    "        image_path = base_image_path+file\n",
    "        label_path = base_label_path+file[:-4]+\"-label.nii\"\n",
    "        print(image_path)\n",
    "        print(label_path)\n",
    "\n",
    "        image += (data_prepare(image_path, False))\n",
    "        temp = data_prepare(label_path, True)\n",
    "        heart_index.append((len(image), int(image_path[-5])))\n",
    "        label += temp\n",
    "    \n",
    "    return np.expand_dims(np.array(image), axis=1).astype(np.float32), np.array(label), heart_index"
   ]
  },
  {
   "cell_type": "code",
   "execution_count": 0,
   "metadata": {
    "colab": {},
    "colab_type": "code",
    "id": "NEu9J3p_MhfY"
   },
   "outputs": [],
   "source": [
    "image, label, index = get_data(240)"
   ]
  },
  {
   "cell_type": "markdown",
   "metadata": {
    "colab_type": "text",
    "id": "hrJu3AtLNa9x"
   },
   "source": [
    "Define unit convolutions that will be repeatedly called in the model."
   ]
  },
  {
   "cell_type": "code",
   "execution_count": 0,
   "metadata": {
    "colab": {},
    "colab_type": "code",
    "id": "9uCfA4DRNd1T"
   },
   "outputs": [],
   "source": [
    "def conv1x1(in_channels, out_channels, groups=1):\n",
    "    return nn.Conv2d(in_channels,\n",
    "                     out_channels,\n",
    "                     kernel_size=1,\n",
    "                     groups=groups,\n",
    "                     stride=1)\n",
    "\n",
    "def conv3x3(in_channels, out_channels, stride=1, padding=1, bias=True, groups=1):\n",
    "    return nn.Conv2d(in_channels,\n",
    "                     out_channels,\n",
    "                     kernel_size=3,\n",
    "                     stride=stride,\n",
    "                     padding=padding,\n",
    "                     bias=bias,\n",
    "                     groups=groups)\n",
    "\n",
    "def upconv2x2(in_channels, out_channels, mode='transpose'):\n",
    "    if mode == 'transpose':\n",
    "        return nn.ConvTranspose2d(in_channels,\n",
    "                                  out_channels,\n",
    "                                  kernel_size=2,\n",
    "                                  stride=2)\n",
    "    else:\n",
    "        return nn.Sequential(\n",
    "            nn.Upsample(mode='bilinear', scale_factor=2),\n",
    "            conv1x1(in_channels, out_channels))"
   ]
  },
  {
   "cell_type": "markdown",
   "metadata": {
    "colab_type": "text",
    "id": "EIbspYG0NpzQ"
   },
   "source": [
    "Define the DownConv Module that 2 convolutions and 1 MaxPool.\n",
    "    A ReLU activation follows each convolution."
   ]
  },
  {
   "cell_type": "code",
   "execution_count": 0,
   "metadata": {
    "colab": {},
    "colab_type": "code",
    "id": "tJUxzJRbNneY"
   },
   "outputs": [],
   "source": [
    "class DownConv(nn.Module):\n",
    "    \"\"\"\n",
    "    A helper Module that performs 2 convolutions and 1 MaxPool.\n",
    "    A ReLU activation follows each convolution.\n",
    "    \"\"\"\n",
    "    def __init__(self, in_channels, out_channels, pooling=True):\n",
    "        super(DownConv, self).__init__()\n",
    "\n",
    "        self.in_channels = in_channels\n",
    "        self.out_channels = out_channels\n",
    "        self.pooling = pooling\n",
    "\n",
    "        self.conv1 = conv3x3(self.in_channels, self.out_channels)\n",
    "        self.conv2 = conv3x3(self.out_channels, self.out_channels)\n",
    "\n",
    "        if self.pooling:\n",
    "            self.pool = nn.MaxPool2d(kernel_size=2, stride=2)\n",
    "\n",
    "    def forward(self, x):\n",
    "        x = F.relu(self.conv1(x))\n",
    "        x = F.relu(self.conv2(x))\n",
    "        before_pool = x\n",
    "        if self.pooling:\n",
    "            x = self.pool(x)\n",
    "        return x, before_pool"
   ]
  },
  {
   "cell_type": "markdown",
   "metadata": {
    "colab_type": "text",
    "id": "zojal4BoNG7O"
   },
   "source": [
    "Define the UpConv module that performs 2 convolutions and 1 UpConvolution.\n",
    "    A ReLU activation follows each convolution."
   ]
  },
  {
   "cell_type": "code",
   "execution_count": 0,
   "metadata": {
    "colab": {},
    "colab_type": "code",
    "id": "VFzeqOK8N0pc"
   },
   "outputs": [],
   "source": [
    "class UpConv(nn.Module):\n",
    "    \"\"\"\n",
    "    A helper Module that performs 2 convolutions and 1 UpConvolution.\n",
    "    A ReLU activation follows each convolution.\n",
    "    \"\"\"\n",
    "    def __init__(self,\n",
    "                 in_channels,\n",
    "                 out_channels,\n",
    "                 merge_mode='concat',\n",
    "                 up_mode='transpose'):\n",
    "        super(UpConv, self).__init__()\n",
    "\n",
    "        self.in_channels = in_channels\n",
    "        self.out_channels = out_channels\n",
    "        self.merge_mode = merge_mode\n",
    "        self.up_mode = up_mode\n",
    "\n",
    "        self.upconv = upconv2x2(self.in_channels,\n",
    "                                self.out_channels,\n",
    "                                mode=self.up_mode)\n",
    "\n",
    "        if self.merge_mode == 'concat':\n",
    "            self.conv1 = conv3x3(2*self.out_channels,\n",
    "                                 self.out_channels)\n",
    "        else:\n",
    "            # num of input channels to conv2 is same\n",
    "            self.conv1 = conv3x3(self.out_channels, self.out_channels)\n",
    "\n",
    "        self.conv2 = conv3x3(self.out_channels, self.out_channels)\n",
    "\n",
    "    def forward(self, from_down, from_up):\n",
    "        \"\"\" Forward pass\n",
    "        Arguments:\n",
    "            from_down: tensor from the encoder pathway\n",
    "            from_up: upconv'd tensor from the decoder pathway\n",
    "        \"\"\"\n",
    "        from_up = self.upconv(from_up)\n",
    "        if self.merge_mode == 'concat':\n",
    "            x = torch.cat((from_up, from_down), 1)\n",
    "        else:\n",
    "            x = from_up + from_down\n",
    "        x = F.relu(self.conv1(x))\n",
    "        x = F.relu(self.conv2(x))\n",
    "        return x\n"
   ]
  },
  {
   "cell_type": "markdown",
   "metadata": {
    "colab_type": "text",
    "id": "oL_q5jceNmo_"
   },
   "source": [
    "    \"\"\" `UNet` class is based on https://arxiv.org/abs/1505.04597\n",
    "    The U-Net is a convolutional encoder-decoder neural network.\n",
    "    Contextual spatial information (from the decoding,\n",
    "    expansive pathway) about an input tensor is merged with\n",
    "    information representing the localization of details\n",
    "    (from the encoding, compressive pathway).\n",
    "    Modifications to the original paper:\n",
    "    (1) padding is used in 3x3 convolutions to prevent loss\n",
    "        of border pixels\n",
    "    (2) merging outputs does not require cropping due to (1)\n",
    "    (3) residual connections can be used by specifying\n",
    "        UNet(merge_mode='add')\n",
    "    (4) if non-parametric upsampling is used in the decoder\n",
    "        pathway (specified by upmode='upsample'), then an\n",
    "        additional 1x1 2d convolution occurs after upsampling\n",
    "        to reduce channel dimensionality by a factor of 2.\n",
    "        This channel halving happens with the convolution in\n",
    "        the tranpose convolution (specified by upmode='transpose')\n",
    "    \"\"\""
   ]
  },
  {
   "cell_type": "code",
   "execution_count": 0,
   "metadata": {
    "colab": {},
    "colab_type": "code",
    "id": "RUb-Mg7tONbW"
   },
   "outputs": [],
   "source": [
    "class UNet(nn.Module):\n",
    "\n",
    "\n",
    "    def __init__(self, num_classes, in_channels=1, depth=5,\n",
    "                 start_filts=4, up_mode='transpose',\n",
    "                 merge_mode='concat'):\n",
    "        \"\"\"\n",
    "        Arguments:\n",
    "            in_channels: int, number of channels in the input tensor.\n",
    "                Default is 3 for RGB images.\n",
    "            depth: int, number of MaxPools in the U-Net.\n",
    "            start_filts: int, number of convolutional filters for the\n",
    "                first conv.\n",
    "            up_mode: string, type of upconvolution. Choices: 'transpose'\n",
    "                for transpose convolution or 'upsample' for nearest neighbour\n",
    "                upsampling.\n",
    "        \"\"\"\n",
    "        super(UNet, self).__init__()\n",
    "\n",
    "        if up_mode in ('transpose', 'upsample'):\n",
    "            self.up_mode = up_mode\n",
    "        else:\n",
    "            raise ValueError(\"\\\"{}\\\" is not a valid mode for \"\n",
    "                             \"upsampling. Only \\\"transpose\\\" and \"\n",
    "                             \"\\\"upsample\\\" are allowed.\".format(up_mode))\n",
    "\n",
    "        if merge_mode in ('concat', 'add'):\n",
    "            self.merge_mode = merge_mode\n",
    "        else:\n",
    "            raise ValueError(\"\\\"{}\\\" is not a valid mode for\"\n",
    "                             \"merging up and down paths. \"\n",
    "                             \"Only \\\"concat\\\" and \"\n",
    "                             \"\\\"add\\\" are allowed.\".format(up_mode))\n",
    "\n",
    "        # NOTE: up_mode 'upsample' is incompatible with merge_mode 'add'\n",
    "        if self.up_mode == 'upsample' and self.merge_mode == 'add':\n",
    "            raise ValueError(\"up_mode \\\"upsample\\\" is incompatible \"\n",
    "                             \"with merge_mode \\\"add\\\" at the moment \"\n",
    "                             \"because it doesn't make sense to use \"\n",
    "                             \"nearest neighbour to reduce \"\n",
    "                             \"depth channels (by half).\")\n",
    "\n",
    "        self.num_classes = num_classes\n",
    "        self.in_channels = in_channels\n",
    "        self.start_filts = start_filts\n",
    "        self.depth = depth\n",
    "\n",
    "        self.down_convs = []\n",
    "        self.up_convs = []\n",
    "\n",
    "        # create the encoder pathway and add to a list\n",
    "        for i in range(depth):\n",
    "            ins = self.in_channels if i == 0 else outs\n",
    "            outs = self.start_filts*(2**i)\n",
    "            pooling = True if i < depth-1 else False\n",
    "\n",
    "            down_conv = DownConv(ins, outs, pooling=pooling)\n",
    "            self.down_convs.append(down_conv)\n",
    "\n",
    "        # create the decoder pathway and add to a list\n",
    "        # - careful! decoding only requires depth-1 blocks\n",
    "        for i in range(depth-1):\n",
    "            ins = outs\n",
    "            outs = ins // 2\n",
    "            up_conv = UpConv(ins, outs, up_mode=up_mode,\n",
    "                merge_mode=merge_mode)\n",
    "            self.up_convs.append(up_conv)\n",
    "\n",
    "        self.conv_final = conv1x1(outs, self.num_classes)\n",
    "\n",
    "        # add the list of modules to current module\n",
    "        self.down_convs = nn.ModuleList(self.down_convs)\n",
    "        self.up_convs = nn.ModuleList(self.up_convs)\n",
    "\n",
    "        self.reset_params()\n",
    "\n",
    "    @staticmethod\n",
    "    def weight_init(m):\n",
    "        if isinstance(m, nn.Conv2d):\n",
    "            nn.init.xavier_normal(m.weight)\n",
    "            nn.init.constant(m.bias, 0)\n",
    "\n",
    "\n",
    "    def reset_params(self):\n",
    "        for i, m in enumerate(self.modules()):\n",
    "            self.weight_init(m)\n",
    "\n",
    "    def forward(self, x):\n",
    "        encoder_outs = []\n",
    "\n",
    "        # encoder pathway, save outputs for merging\n",
    "        for i, module in enumerate(self.down_convs):\n",
    "            x, before_pool = module(x)\n",
    "            encoder_outs.append(before_pool)\n",
    "\n",
    "        for i, module in enumerate(self.up_convs):\n",
    "            before_pool = encoder_outs[-(i+2)]\n",
    "            x = module(before_pool, x)\n",
    "\n",
    "        # No softmax is used. This means you need to use\n",
    "        # nn.CrossEntropyLoss is your training script,\n",
    "        # as this module includes a softmax already.\n",
    "        x = self.conv_final(x)\n",
    "        return x"
   ]
  },
  {
   "cell_type": "markdown",
   "metadata": {
    "colab_type": "text",
    "id": "ulnPKcU3OjXC"
   },
   "source": [
    "Define the dataset that will be passed to the dataloader to generate each training sample.\n",
    "Note that the accuracy can be computed using "
   ]
  },
  {
   "cell_type": "code",
   "execution_count": null,
   "metadata": {
    "colab": {},
    "colab_type": "code",
    "id": "GA2GtYxXOjl4"
   },
   "outputs": [],
   "source": [
    "class MyCustomDataset(Dataset):\n",
    "    def __init__(self, type, dev_heart):\n",
    "        if(dev_heart == 0):\n",
    "            from_num = 0\n",
    "        else:\n",
    "            from_num = heart_index[dev_heart-1][0]\n",
    "        to_num = heart_index[dev_heart][0]\n",
    "        if(type == 'Train'):\n",
    "            self.image = np.concatenate((total_image[:from_num,:,:,:],total_image[to_num:,:,:,:]))\n",
    "            self.label = np.concatenate((total_label[:from_num,:,:],total_label[to_num:,:,:]))\n",
    "            print(self.image.shape)\n",
    "            print(self.label.shape)\n",
    "        else:\n",
    "            self.image = total_image[from_num:to_num, :, :, :]\n",
    "            self.label = total_label[from_num:to_num, :, :]\n",
    "            print(self.image.shape)\n",
    "            print(self.label.shape)\n",
    "\n",
    "    def __len__(self):\n",
    "        return len(self.image)\n",
    "\n",
    "    def __getitem__(self, idx):\n",
    "        image = self.image[idx]\n",
    "        mask = self.label[idx]\n",
    "        return (image, mask)\n",
    "\n",
    "def get_loss(dl, model):\n",
    "    loss = 0\n",
    "    for X, y in dl:\n",
    "        X, y = Variable(X).cuda(), Variable(y).cuda()\n",
    "        output = model(X)\n",
    "        loss += F.cross_entropy(output, y.long()).data[0]\n",
    "    loss = loss / len(dl)\n",
    "    return loss\n",
    "\n",
    "\n",
    "def one_hot(x, classes):\n",
    "    #print(x.shape)\n",
    "    #print(x.dtype)\n",
    "    length = len(x)\n",
    "    x_one_hot = np.zeros((classes, length))\n",
    "    x_one_hot[x, np.arange(length)] = 1\n",
    "    return x_one_hot\n"
   ]
  },
  {
   "cell_type": "markdown",
   "metadata": {},
   "source": [
    "Define dice score and Jaccard score to evaluate accuracy."
   ]
  },
  {
   "cell_type": "code",
   "execution_count": null,
   "metadata": {},
   "outputs": [],
   "source": [
    "\n",
    "'''\n",
    "label: ground truth label matrix or tensor\n",
    "target: predicted label matrix or tensor\n",
    "classes: number of classes in the label\n",
    "'''\n",
    "\n",
    "\n",
    "def dice_score(label, target, classes):\n",
    "    smooth = 1.\n",
    "\n",
    "    label_cols = one_hot(label.flatten(), classes)\n",
    "    target_cols = one_hot(target.flatten(), classes)\n",
    "\n",
    "    intersection = np.sum((label_cols * target_cols), axis=1)  # len = classes\n",
    "    normalization = np.sum((label_cols + target_cols), axis=1)  # len = classes\n",
    "\n",
    "    #print(intersection)\n",
    "    #print(normalization)\n",
    "\n",
    "    return ((2. * intersection + smooth).sum() /\n",
    "            (normalization + smooth).sum())\n",
    "\n",
    "\n",
    "'''\n",
    "label: predicted label matrix or tensor\n",
    "target: predicted label matrix or tensor\n",
    "classes: number of classes in the label\n",
    "*WARNING: label and target must be of the same dimension. \n",
    "'''\n",
    "\n",
    "\n",
    "def jaccard_index(label, target):\n",
    "    label_flat = label.flatten()\n",
    "    target_flat = target.flatten()\n",
    "    length = len(label_flat)\n",
    "    assert (length == len(target_flat))\n",
    "\n",
    "    union = (label_flat != target_flat).astype(int).sum() + length\n",
    "    intersection = (label_flat == target_flat).astype(int).sum()\n",
    "\n",
    "    return intersection / union\n",
    "\n",
    "\n",
    "def get_accuracy(dl, model):\n",
    "\n",
    "    total_num = 0\n",
    "    correct_num = 0\n",
    "\n",
    "    for X, y in dl:\n",
    "        X = Variable(X).cuda()\n",
    "        output = model(X).cpu()\n",
    "        #print(output.shape)\n",
    "        #print(y.shape)\n",
    "        #print(y.type())\n",
    "        #print(np.argmax(output.data.numpy()).dtype)\n",
    "        correct_num += (np.argmax(output.data.numpy(),axis=1) == y.data.numpy().astype(\"int64\")).sum().item()\n",
    "        total_num += y.shape[0]*y.shape[1]*y.shape[2]\n",
    "\n",
    "    return correct_num/total_num\n",
    "\n",
    "def get_dice_score(dl, model):\n",
    "\n",
    "    #batch_num = 0\n",
    "    score = 0\n",
    "    for X, y in dl:\n",
    "        X = Variable(X).cuda()\n",
    "        output = model(X).cpu()\n",
    "        score = dice_score(y.data.numpy().astype(\"int64\"),np.argmax(output.data.numpy().astype(\"int64\"),axis=1), 3)\n",
    "        #print(batch_num)\n",
    "        #batch_num += 1\n",
    "\n",
    "    return score\n",
    "\n",
    "def get_jaccard_score(dl, model):\n",
    "\n",
    "    score = 0\n",
    "    for X, y in dl:\n",
    "        X = Variable(X).cuda()\n",
    "        output = model(X).cpu()\n",
    "        score = jaccard_index(y.data.numpy().astype(\"int64\"),np.argmax(output.data.numpy().astype(\"int64\"),axis=1))\n",
    "\n",
    "    return score\n"
   ]
  },
  {
   "cell_type": "markdown",
   "metadata": {
    "colab_type": "text",
    "id": "fTz21EKlOsZ5"
   },
   "source": [
    "Define parameters that will be used in the training routine"
   ]
  },
  {
   "cell_type": "code",
   "execution_count": 0,
   "metadata": {
    "colab": {},
    "colab_type": "code",
    "id": "nWYASsV6Oska"
   },
   "outputs": [],
   "source": [
    "parser = argparse.ArgumentParser(description='UNET Implementation')\n",
    "parser.add_argument('--batch-size', type=int, default=4, metavar='N',\n",
    "                    help='input batch size for training (default: 4)')\n",
    "parser.add_argument('--test-batch-size', type=int, default=1000, metavar='N',\n",
    "                    help='input batch size for testing (default: 1000)')\n",
    "parser.add_argument('--epochs', type=int, default=20, metavar='N',\n",
    "                    help='number of epochs to train (default: 20)')\n",
    "parser.add_argument('--figuresize', type=int, default=240, metavar='N',\n",
    "                    help='size that we use for the model')\n",
    "parser.add_argument('--lr', type=float, default=0.001, metavar='LR',\n",
    "                    help='learning rate (default: 0.001)')\n",
    "parser.add_argument('--seed', type=int, default=1, metavar='S',\n",
    "                    help='random seed (default: 1)')\n",
    "parser.add_argument('--log-interval', type=int, default=1, metavar='N',\n",
    "                    help='how many epoches between logging training status')\n",
    "parser.add_argument('--save-model', action='store_true', default=True,\n",
    "                    help='For Saving the current Model')\n",
    "parser.add_argument('--test-model', type=str, default='', metavar='N',\n",
    "                    help='If test-model has a name, do not do training, just testing on dev and train set')\n",
    "parser.add_argument('--load-model', type=str, default='', metavar='N',\n",
    "                    help='If load-model has a name, use pretrained model')\n",
    "args = parser.parse_args()\n",
    "\n",
    "total_image, total_label, heart_index = get_data(args.figuresize)\n",
    "dev_heart = 0\n",
    "total_number_of_2Dfigure = 1497\n",
    "timeStr = time.strftime('%Y-%m-%d-%H-%M-%S', time.localtime(time.time()))\n",
    "os.mkdir(timeStr + \"model\")"
   ]
  },
  {
   "cell_type": "markdown",
   "metadata": {
    "colab_type": "text",
    "id": "eamkPDTnO3qk"
   },
   "source": [
    "The training routine is defined below. Here are a few notes:\n",
    "1. each 2d slices is randomly shuffled during training\n",
    "2. An entire subject is left out for cross validation\n"
   ]
  },
  {
   "cell_type": "code",
   "execution_count": 0,
   "metadata": {
    "colab": {},
    "colab_type": "code",
    "id": "TLxLFDhXO30O"
   },
   "outputs": [],
   "source": [
    "while(dev_heart < 10):\n",
    "\n",
    "    print(\"We are using heart \"+str(heart_index[dev_heart][1]))\n",
    "    train_loader = torch.utils.data.DataLoader(MyCustomDataset('Train', dev_heart), batch_size=args.batch_size, shuffle=True)\n",
    "    if (dev_heart == 0):\n",
    "        dev_loader = torch.utils.data.DataLoader(MyCustomDataset('Dev', dev_heart), batch_size=heart_index[0][0], shuffle=False)\n",
    "    else:\n",
    "        dev_loader = torch.utils.data.DataLoader(MyCustomDataset('Dev', dev_heart), batch_size=heart_index[dev_heart][0]-heart_index[dev_heart-1][0], shuffle=False)\n",
    "\n",
    "    model = UNet(3, merge_mode='concat')\n",
    "    device = torch.device('cuda' if torch.cuda.is_available() else 'cpu')\n",
    "    print(device)\n",
    "    model = model.to(device)\n",
    "    model.train()\n",
    "\n",
    "    best_dice = 0\n",
    "    best_jaccard = 0\n",
    "    optim = torch.optim.Adam(model.parameters(),lr=args.lr)\n",
    "\n",
    "    os.mkdir(timeStr + \"model/dice\"+str(heart_index[dev_heart][1]))\n",
    "    os.mkdir(timeStr + \"model/jaccard\"+str(heart_index[dev_heart][1]))\n",
    "\n",
    "    for epoch in range(args.epochs):\n",
    "\n",
    "        for batch_idx, (data, label) in enumerate(train_loader):\n",
    "\n",
    "            data, target = data.to(device), label.to(device)\n",
    "            output = model(data)\n",
    "            loss = F.cross_entropy(output, target.long())\n",
    "\n",
    "            optim.zero_grad()\n",
    "            loss.backward()\n",
    "            optim.step()\n",
    "\n",
    "        if (epoch + 1) % args.log_interval == 0:\n",
    "\n",
    "            print(\"Epoch : \"+str(epoch))\n",
    "            model.eval()\n",
    "\n",
    "            train_loss = get_loss(train_loader, model)\n",
    "            print(train_loss)\n",
    "            train_acc = get_accuracy(train_loader, model)\n",
    "            dev_dice = get_dice_score(dev_loader, model)\n",
    "            dev_jaccard = get_jaccard_score(dev_loader, model)\n",
    "            dev_acc = get_accuracy(dev_loader, model)\n",
    "            print(\"Training accuracy : \" + str(train_acc))\n",
    "            print(\"Dev dice score : \" + str(dev_dice))\n",
    "            print(\"Dev jaccard score : \" + str(dev_jaccard))\n",
    "            print(\"Dev accuracy : \" + str(dev_acc))\n",
    "            if(train_acc < 0.01):\n",
    "                print(\"Bad initialization\")\n",
    "                exit(0)\n",
    "            if(args.save_model and (dev_dice > best_dice)):\n",
    "                torch.save(model.state_dict(), timeStr + \"model/dice\"+str(heart_index[dev_heart][1])+\"/\" + str(epoch) + \":\" + str(dev_dice) + \".pt\")\n",
    "                best_dice = dev_dice\n",
    "            if(args.save_model and (dev_jaccard > best_jaccard)):\n",
    "                torch.save(model.state_dict(), timeStr + \"model/jaccard\"+str(heart_index[dev_heart][1])+\"/\" + str(epoch) + \":\" + str(dev_jaccard) + \".pt\")\n",
    "                best_jaccard = dev_jaccard\n",
    "\n",
    "            model.train()\n",
    "\n",
    "    print(\"Done\")\n",
    "\n",
    "    dev_heart += 1"
   ]
  },
  {
   "cell_type": "markdown",
   "metadata": {
    "colab_type": "text",
    "id": "1up5LpMsPb9f"
   },
   "source": []
  }
 ],
 "metadata": {
  "colab": {
   "collapsed_sections": [],
   "name": "U-Net.ipynb",
   "provenance": [],
   "version": "0.3.2"
  },
  "kernelspec": {
   "display_name": "Python 3",
   "language": "python",
   "name": "python3"
  },
  "language_info": {
   "codemirror_mode": {
    "name": "ipython",
    "version": 3
   },
   "file_extension": ".py",
   "mimetype": "text/x-python",
   "name": "python",
   "nbconvert_exporter": "python",
   "pygments_lexer": "ipython3",
   "version": "3.6.5"
  }
 },
 "nbformat": 4,
 "nbformat_minor": 1
}
